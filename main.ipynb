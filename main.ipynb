{
 "cells": [
  {
   "cell_type": "code",
   "execution_count": 12,
   "metadata": {},
   "outputs": [
    {
     "name": "stdout",
     "output_type": "stream",
     "text": [
      "1735920716.0\n",
      "2025-01-03 16:11:56\n"
     ]
    }
   ],
   "source": [
    "import os\n",
    "import datetime\n",
    "\n",
    "# format wanted : 2025-01-07T11:48:36.334Z\n",
    "\n",
    "fs = [file for file in os.listdir(\"/media/mouhamed/SENTER/notes/Obsidian\") if os.path.isdir(os.path.join(\"/media/mouhamed/SENTER/notes/Obsidian\", file)) ]\n",
    "\n",
    "fs[0]\n",
    "\n",
    "print(os.stat(\"/media/mouhamed/SENTER/notes/Obsidian/.obsidian/\").st_mtime)\n",
    "\n",
    "to_date = datetime.datetime.fromtimestamp(os.path.getmtime(\"/media/mouhamed/SENTER/notes/Obsidian/.obsidian/\"))\n",
    "print(to_date)"
   ]
  }
 ],
 "metadata": {
  "kernelspec": {
   "display_name": "Python 3",
   "language": "python",
   "name": "python3"
  },
  "language_info": {
   "codemirror_mode": {
    "name": "ipython",
    "version": 3
   },
   "file_extension": ".py",
   "mimetype": "text/x-python",
   "name": "python",
   "nbconvert_exporter": "python",
   "pygments_lexer": "ipython3",
   "version": "3.10.12"
  }
 },
 "nbformat": 4,
 "nbformat_minor": 2
}
